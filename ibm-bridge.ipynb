{
 "cells": [
  {
   "cell_type": "markdown",
   "metadata": {},
   "source": [
    "### Import necessary libraries for file extraction (IBM)"
   ]
  },
  {
   "cell_type": "code",
   "execution_count": 2,
   "metadata": {},
   "outputs": [],
   "source": [
    "import wget\n",
    "import os\n",
    "import cv2\n",
    "import shutil\n",
    "import glob\n",
    "import numpy as np\n"
   ]
  },
  {
   "cell_type": "markdown",
   "metadata": {},
   "source": [
    "## Download Files To Local Machine using credentials (DARWIN's)"
   ]
  },
  {
   "cell_type": "code",
   "execution_count": null,
   "metadata": {},
   "outputs": [],
   "source": [
    "credentials = {\n",
    "    'IBM_API_KEY_ID': '3ifDMUyTxwW7C30JlKVRdi5FpijnReisfUVLNwjPgFBj',\n",
    "    'IAM_SERVICE_ID': 'crn:v1:bluemix:public:iam-identity::a/36c5a36d7ceb4e7690fc654b3802a2f9::serviceid:ServiceId-f43d7268-4c52-4dbd-b57b-d54ff7c7b1f2',\n",
    "    'ENDPOINT': 'https://control.cloud-object-storage.cloud.ibm.com/v2/endpoints',\n",
    "    'IBM_AUTH_ENDPOINT': 'https://iam.bluemix.net/oidc/token',\n",
    "    'BUCKET': 'obj-detect-facemasks',\n",
    "    'FILE': '0e801b96-e694-48d3-891a-d5443c2124ea.jpg'\n",
    "}"
   ]
  },
  {
   "cell_type": "code",
   "execution_count": null,
   "metadata": {},
   "outputs": [],
   "source": [
    "from ibm_botocore.client import Config\n",
    "import ibm_boto3\n",
    "\n",
    "cos = ibm_boto3.client(service_name='s3',\n",
    "    ibm_api_key_id=credentials['IBM_API_KEY_ID'],\n",
    "    ibm_service_instance_id=credentials['IAM_SERVICE_ID'],\n",
    "    ibm_auth_endpoint=credentials['IBM_AUTH_ENDPOINT'],\n",
    "    config=Config(signature_version='oauth'),\n",
    "    endpoint_url=credentials['ENDPOINT'])"
   ]
  },
  {
   "cell_type": "markdown",
   "metadata": {},
   "source": [
    "### Download files"
   ]
  },
  {
   "cell_type": "code",
   "execution_count": null,
   "metadata": {},
   "outputs": [],
   "source": [
    "# cos.download_file(Bucket='bucketods-test',Key='mnist_test.csv',Filename='data/mnist_test2.csv')"
   ]
  },
  {
   "cell_type": "markdown",
   "metadata": {},
   "source": [
    "### Configuration"
   ]
  },
  {
   "cell_type": "code",
   "execution_count": 3,
   "metadata": {},
   "outputs": [],
   "source": [
    "CLEAN = False  # USE WITH CARE! Wipe out saved files when this is true (else reuse for speed)\n",
    "FRAMES_DIR = \"frames\"  # Output dir to hold/cache the original frames\n",
    "OUTPUT_DIR = \"output\""
   ]
  },
  {
   "cell_type": "markdown",
   "metadata": {},
   "source": [
    "## Create or clean the directories\n",
    "Caching the frames and output directories allows the processing to continue where it left off. This is particularly useful when using a shared system with deployment time limits. This also allows you to quickly `Run all` when tweaking Python code that does not affect the inference.\n",
    "\n",
    "If you change the input video or just want a fresh start, you should `CLEAN` or change the directory names."
   ]
  },
  {
   "cell_type": "code",
   "execution_count": 4,
   "metadata": {},
   "outputs": [],
   "source": [
    "if CLEAN:\n",
    "    if os.path.isdir(FRAMES_DIR):\n",
    "        shutil.rmtree(FRAMES_DIR)\n",
    "    if os.path.isdir(OUTPUT_DIR):\n",
    "        shutil.rmtree(OUTPUT_DIR)\n",
    "\n",
    "if not os.path.isdir(FRAMES_DIR):\n",
    "    os.mkdir(FRAMES_DIR)\n",
    "if not os.path.isdir(OUTPUT_DIR):\n",
    "    os.mkdir(OUTPUT_DIR)"
   ]
  },
  {
   "cell_type": "markdown",
   "metadata": {},
   "source": [
    "### Read video using directory"
   ]
  },
  {
   "cell_type": "code",
   "execution_count": 5,
   "metadata": {},
   "outputs": [],
   "source": [
    "input_video = 'livestream videos/training_video.mp4'"
   ]
  },
  {
   "cell_type": "markdown",
   "metadata": {},
   "source": [
    "### Parse and explode the video file into JPEGs"
   ]
  },
  {
   "cell_type": "code",
   "execution_count": 179,
   "metadata": {},
   "outputs": [
    {
     "name": "stdout",
     "output_type": "stream",
     "text": [
      "Frame count estimate is 1787\n",
      "Writing frame 100 of 1787\n",
      "Wrote 100 frames\n",
      "Frame Dimensions: 960x540\n"
     ]
    }
   ],
   "source": [
    "if os.path.isfile(input_video):\n",
    "    video_capture = cv2.VideoCapture(input_video)\n",
    "else:\n",
    "    raise Exception(\"File %s doesn't exist!\" % input_video)\n",
    "\n",
    "total_frames = int(video_capture.get(cv2.CAP_PROP_FRAME_COUNT))\n",
    "print(\"Frame count estimate is %d\" % total_frames)\n",
    "\n",
    "num = 0\n",
    "\n",
    "# while video_capture.get(cv2.CAP_PROP_POS_FRAMES) < video_capture.get(cv2.CAP_PROP_FRAME_COUNT):\n",
    "while video_capture.get(cv2.CAP_PROP_POS_FRAMES) < 100:\n",
    "          \n",
    "    success, image = video_capture.read()\n",
    "    \n",
    "    if success:\n",
    "        \n",
    "        num = int(video_capture.get(cv2.CAP_PROP_POS_FRAMES))\n",
    "        print(\"Writing frame {num} of {total_frames}\".format(\n",
    "            num=num, total_frames=total_frames), end=\"\\r\")\n",
    "        cv2.imwrite('{frames_dir}/camt{num:04d}.jpg'.format(\n",
    "            frames_dir=FRAMES_DIR, num=num), image)\n",
    "    else:\n",
    "        # TODO: If this happens, we need to add retry code\n",
    "        raise Exception('Error writing camt{num:04d}.jpg'.format(\n",
    "            num=int(video_capture.get(cv2.CAP_PROP_POS_FRAMES))))\n",
    "\n",
    "print(\"\\nWrote {num} frames\".format(num=num))\n",
    "\n",
    "FRAME_FPS = int(video_capture.get(cv2.CAP_PROP_FPS))\n",
    "FRAME_WIDTH = int(video_capture.get(cv2.CAP_PROP_FRAME_WIDTH))\n",
    "FRAME_HEIGHT = int(video_capture.get(cv2.CAP_PROP_FRAME_HEIGHT))\n",
    "ROI_YMAX = int(round(FRAME_HEIGHT * 0.75))  # Bottom quarter = finish line\n",
    "\n",
    "print(\"Frame Dimensions: %sx%s\" % (FRAME_WIDTH, FRAME_HEIGHT))"
   ]
  },
  {
   "cell_type": "markdown",
   "metadata": {},
   "source": [
    "\n",
    "### Pairwise Frames Subtraction"
   ]
  },
  {
   "cell_type": "code",
   "execution_count": 180,
   "metadata": {},
   "outputs": [
    {
     "name": "stdout",
     "output_type": "stream",
     "text": [
      "Frames Substraction Completed\n"
     ]
    }
   ],
   "source": [
    "jpgCounter = len(glob.glob1(FRAMES_DIR,\"*.jpg\"))\n",
    "i = 1\n",
    "j = 2\n",
    "\n",
    "while j < jpgCounter:\n",
    "\n",
    "    img1 = cv2.imread('{frames_dir}/camt{num:04d}.jpg'.format(\n",
    "            frames_dir=FRAMES_DIR, num=i))\n",
    "    \n",
    "    while j < jpgCounter:\n",
    "\n",
    "        img2 = cv2.imread('{frames_dir}/camt{num:04d}.jpg'.format(\n",
    "            frames_dir=FRAMES_DIR, num=j))\n",
    "\n",
    "        overlap = cv2.absdiff(img1, img2)\n",
    "        overlap_mean = np.array(overlap).mean()\n",
    "\n",
    "        j+=1\n",
    "\n",
    "        #Change this value to increase the threshold of the detected movement\n",
    "        if int(overlap_mean) >= 12: \n",
    "\n",
    "            #Assign new i and j here\n",
    "            i = j - 1\n",
    "            j += 1\n",
    "            break\n",
    "\n",
    "        else:\n",
    "            os.remove('{frames}/camt{num:04d}.jpg'.format(frames=FRAMES_DIR, num= (j-1)))\n",
    "\n",
    "\n",
    "print('Frames Substraction Completed')    \n",
    "        \n",
    "            "
   ]
  },
  {
   "cell_type": "markdown",
   "metadata": {},
   "source": [
    "### Creating new bucket in Cloud Object Storage (COS)"
   ]
  },
  {
   "cell_type": "code",
   "execution_count": null,
   "metadata": {},
   "outputs": [],
   "source": [
    "bucket = 'bucketods-livestream' #Name of bucket"
   ]
  },
  {
   "cell_type": "code",
   "execution_count": null,
   "metadata": {},
   "outputs": [],
   "source": [
    "cos.create_bucket(Bucket=bucket)"
   ]
  },
  {
   "cell_type": "markdown",
   "metadata": {},
   "source": [
    "### Uploading file to COS"
   ]
  },
  {
   "cell_type": "code",
   "execution_count": null,
   "metadata": {},
   "outputs": [],
   "source": [
    "jpgCounter = len(glob.glob1(FRAMES_DIR,\"*.jpg\"))\n",
    "\n",
    "for num in range(1, jpgCounter):\n",
    "    cos.upload_file(Filename='frames/camt{num:04d}.jpg'.format(num = num),Bucket='bucketods-livestream', Key='camt{num:04d}.jpg'.format(num = num))\n",
    "    print(\"Uploading file {num} of {jpgCounter}\".format(\n",
    "            num=num, jpgCounter=jpgCounter), end=\"\\r\")\n",
    "    \n",
    "print(\"Uploaded to: {bucket}\".format(bucket = bucket))"
   ]
  },
  {
   "cell_type": "markdown",
   "metadata": {},
   "source": [
    "### Get list of Buckets in COS"
   ]
  },
  {
   "cell_type": "code",
   "execution_count": null,
   "metadata": {},
   "outputs": [],
   "source": [
    "cos_credentials={\n",
    "  \"apikey\": \"3ifDMUyTxwW7C30JlKVRdi5FpijnReisfUVLNwjPgFBj\",\n",
    "  \"endpoints\": \"https://control.cloud-object-storage.cloud.ibm.com/v2/endpoints\",\n",
    "  \"iam_apikey_description\": \"Auto-generated for key 6c04872e-5bc4-431d-b608-28492aa4955f\",\n",
    "  \"iam_apikey_name\": \"cloud-annotations-binding\",\n",
    "  \"iam_role_crn\": \"crn:v1:bluemix:public:iam::::serviceRole:Writer\",\n",
    "  \"iam_serviceid_crn\": \"crn:v1:bluemix:public:iam-identity::a/36c5a36d7ceb4e7690fc654b3802a2f9::serviceid:ServiceId-f43d7268-4c52-4dbd-b57b-d54ff7c7b1f2\",\n",
    "  \"resource_instance_id\": \"crn:v1:bluemix:public:cloud-object-storage:global:a/36c5a36d7ceb4e7690fc654b3802a2f9:ac1d32d4-e472-487b-86e8-d53aef97a86e::\"\n",
    "}\n",
    "\n",
    "auth_endpoint = 'https://iam.bluemix.net/oidc/token'\n",
    "service_endpoint = 'https://s3-api.us-geo.objectstorage.softlayer.net'\n",
    "\n",
    "cos = ibm_boto3.client('s3',\n",
    "                         ibm_api_key_id=cos_credentials['apikey'],\n",
    "                         ibm_service_instance_id=cos_credentials['resource_instance_id'],\n",
    "                         ibm_auth_endpoint=auth_endpoint,\n",
    "                         config=Config(signature_version='oauth'),\n",
    "                         endpoint_url=service_endpoint)"
   ]
  },
  {
   "cell_type": "code",
   "execution_count": null,
   "metadata": {},
   "outputs": [],
   "source": [
    "for bucket in cos.list_buckets()['Buckets']:\n",
    "    print(bucket['Name'])"
   ]
  }
 ],
 "metadata": {
  "kernelspec": {
   "display_name": "Python 3",
   "language": "python",
   "name": "python3"
  },
  "language_info": {
   "codemirror_mode": {
    "name": "ipython",
    "version": 3
   },
   "file_extension": ".py",
   "mimetype": "text/x-python",
   "name": "python",
   "nbconvert_exporter": "python",
   "pygments_lexer": "ipython3",
   "version": "3.7.3"
  }
 },
 "nbformat": 4,
 "nbformat_minor": 2
}
